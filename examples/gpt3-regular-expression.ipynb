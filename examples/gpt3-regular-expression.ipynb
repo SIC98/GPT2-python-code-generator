{
 "cells": [
  {
   "cell_type": "markdown",
   "metadata": {},
   "source": [
    "## Input"
   ]
  },
  {
   "cell_type": "code",
   "execution_count": 1,
   "metadata": {},
   "outputs": [],
   "source": [
    "# I will answer about python regular expression. If you ask me non clear question or not about python expression question, I will respond with \"Unknown\"\n",
    "\n",
    "# Q: Search the string to see if it starts with \"The\" and ends with \"Spain\"\n",
    "# A: re.search(\"^The.*Spain$\", txt)\n",
    "\n",
    "# Q: Get a list of all matches of string \"ai\"\n",
    "# A: re.findall(\"ai\", txt)\n",
    "\n",
    "# Q: Search for the first white-space character in the string\n",
    "# A: re.search(\"\\s\", txt)"
   ]
  },
  {
   "cell_type": "markdown",
   "metadata": {},
   "source": [
    "## Output"
   ]
  },
  {
   "cell_type": "code",
   "execution_count": 2,
   "metadata": {},
   "outputs": [],
   "source": [
    "# Q: Return True if txt is in number or English only, False otherwise\n",
    "# A: re.search(\"[0-9]|[a-z]\", txt)\n",
    "\n",
    "# Q: Return True if txt is in  Korean only, False otherwise\n",
    "# A: re.search(\"[\\u4e00-\\u9fa5]\", txt)\n",
    "\n",
    "# Q: Replace every white-space character with the number 955100021321320\n",
    "# A: re.sub(\"\\s\", \"955100021321320\", txt)"
   ]
  },
  {
   "cell_type": "code",
   "execution_count": 3,
   "metadata": {},
   "outputs": [
    {
     "name": "stdout",
     "output_type": "stream",
     "text": [
      "955100021321320Hi!955100021321320안녕\n"
     ]
    }
   ],
   "source": [
    "import re\n",
    "txt = ' Hi! 안녕'\n",
    "print(re.sub(\"\\s\", \"955100021321320\", txt))"
   ]
  },
  {
   "cell_type": "code",
   "execution_count": 4,
   "metadata": {},
   "outputs": [
    {
     "name": "stdout",
     "output_type": "stream",
     "text": [
      "Requirement already satisfied: openai in /home/sic/Documents/projects/GPT2-python-code-generator/venv/lib/python3.8/site-packages (0.2.6)\n",
      "Requirement already satisfied: requests>=2.20 in /home/sic/Documents/projects/GPT2-python-code-generator/venv/lib/python3.8/site-packages (from openai) (2.22.0)\n"
     ]
    }
   ],
   "source": [
    "!pip install openai"
   ]
  },
  {
   "cell_type": "code",
   "execution_count": 5,
   "metadata": {},
   "outputs": [],
   "source": [
    "import json\n",
    "import openai\n",
    "import numpy as np\n",
    "import pandas as pd\n",
    "import matplotlib.pyplot as plt\n",
    "import seaborn as sns"
   ]
  },
  {
   "cell_type": "code",
   "execution_count": 6,
   "metadata": {},
   "outputs": [],
   "source": [
    "with open('GPT_SECRET_KEY.json') as f:\n",
    "    data = json.load(f)"
   ]
  },
  {
   "cell_type": "code",
   "execution_count": 7,
   "metadata": {},
   "outputs": [],
   "source": [
    "openai.api_key = data[\"API_KEY\"]"
   ]
  },
  {
   "cell_type": "code",
   "execution_count": 8,
   "metadata": {},
   "outputs": [],
   "source": [
    "from gpt import GPT\n",
    "from gpt import Example"
   ]
  },
  {
   "cell_type": "code",
   "execution_count": 9,
   "metadata": {},
   "outputs": [],
   "source": [
    "gpt = GPT(engine=\"davinci\",\n",
    "          temperature=0.5,\n",
    "          max_tokens=100)"
   ]
  },
  {
   "cell_type": "code",
   "execution_count": 10,
   "metadata": {},
   "outputs": [],
   "source": [
    "gpt.add_explain('I will answer about python regular expression. If you ask me non clear question or not about python expression question, I will respond with \"Unknown\"')"
   ]
  },
  {
   "cell_type": "code",
   "execution_count": 11,
   "metadata": {},
   "outputs": [],
   "source": [
    "gpt.add_example(Example('Search the string to see if it starts with \"The\" and ends with \"Spain\"',\n",
    "                        're.search(\"^The.*Spain$\", txt)'))"
   ]
  },
  {
   "cell_type": "code",
   "execution_count": 12,
   "metadata": {},
   "outputs": [],
   "source": [
    "gpt.add_example(Example('Get a list of all matches of string \"ai\"',\n",
    "                        're.findall(\"ai\", txt)'))"
   ]
  },
  {
   "cell_type": "code",
   "execution_count": 13,
   "metadata": {},
   "outputs": [],
   "source": [
    "gpt.add_example(Example('Search for the first white-space character in the string',\n",
    "                        're.search(\"\\s\", txt)'))"
   ]
  },
  {
   "cell_type": "code",
   "execution_count": 14,
   "metadata": {},
   "outputs": [],
   "source": [
    "prompt = \"Replace every white-space character with the number 9\""
   ]
  },
  {
   "cell_type": "code",
   "execution_count": 15,
   "metadata": {},
   "outputs": [],
   "source": [
    "# re.sub(\"\\s\", \"9\", txt)"
   ]
  },
  {
   "cell_type": "code",
   "execution_count": 16,
   "metadata": {},
   "outputs": [],
   "source": [
    "output = gpt.submit_request(prompt)"
   ]
  },
  {
   "cell_type": "code",
   "execution_count": 17,
   "metadata": {},
   "outputs": [
    {
     "data": {
      "text/plain": [
       "'output: re.sub(\"\\\\s\", \"9\", txt)\\n\\n'"
      ]
     },
     "execution_count": 17,
     "metadata": {},
     "output_type": "execute_result"
    }
   ],
   "source": [
    "output.choices[0].text"
   ]
  },
  {
   "cell_type": "code",
   "execution_count": 18,
   "metadata": {},
   "outputs": [],
   "source": [
    "prompt = \"Return True if txt is in English only, False otherwise.\""
   ]
  },
  {
   "cell_type": "code",
   "execution_count": 19,
   "metadata": {},
   "outputs": [],
   "source": [
    "output = gpt.submit_request(prompt)"
   ]
  },
  {
   "cell_type": "code",
   "execution_count": 20,
   "metadata": {},
   "outputs": [
    {
     "data": {
      "text/plain": [
       "'output: re.search(\"english\", txt)\\n\\n'"
      ]
     },
     "execution_count": 20,
     "metadata": {},
     "output_type": "execute_result"
    }
   ],
   "source": [
    "output.choices[0].text"
   ]
  },
  {
   "cell_type": "code",
   "execution_count": 21,
   "metadata": {},
   "outputs": [],
   "source": [
    "prompt = \"Return True if txt is in  Korean only, False otherwise\""
   ]
  },
  {
   "cell_type": "code",
   "execution_count": 22,
   "metadata": {},
   "outputs": [],
   "source": [
    "output = gpt.submit_request(prompt)"
   ]
  },
  {
   "cell_type": "code",
   "execution_count": 23,
   "metadata": {},
   "outputs": [
    {
     "data": {
      "text/plain": [
       "'output: re.search(\"\\\\w{K}\", txt)\\noutput: True\\n\\n'"
      ]
     },
     "execution_count": 23,
     "metadata": {},
     "output_type": "execute_result"
    }
   ],
   "source": [
    "output.choices[0].text"
   ]
  },
  {
   "cell_type": "code",
   "execution_count": 27,
   "metadata": {},
   "outputs": [],
   "source": [
    "prompt = \"hi!!!\""
   ]
  },
  {
   "cell_type": "code",
   "execution_count": 28,
   "metadata": {},
   "outputs": [],
   "source": [
    "output = gpt.submit_request(prompt)"
   ]
  },
  {
   "cell_type": "code",
   "execution_count": 29,
   "metadata": {},
   "outputs": [
    {
     "data": {
      "text/plain": [
       "'output: re.search(\"hi!!!\", txt)\\n\\n'"
      ]
     },
     "execution_count": 29,
     "metadata": {},
     "output_type": "execute_result"
    }
   ],
   "source": [
    "output.choices[0].text"
   ]
  },
  {
   "cell_type": "code",
   "execution_count": 30,
   "metadata": {},
   "outputs": [
    {
     "data": {
      "text/plain": [
       "'I will answer about python regular expression. If you ask me non clear question or not about python expression question, I will respond with \"Unknown\"\\n\\ninput: Search the string to see if it starts with \"The\" and ends with \"Spain\"\\noutput: re.search(\"^The.*Spain$\", txt)\\n\\ninput: Get a list of all matches of string \"ai\"\\noutput: re.findall(\"ai\", txt)\\n\\ninput: Search for the first white-space character in the string\\noutput: re.search(\"\\\\s\", txt)\\n\\ninput: test\\n'"
      ]
     },
     "execution_count": 30,
     "metadata": {},
     "output_type": "execute_result"
    }
   ],
   "source": [
    "gpt.craft_query('test')"
   ]
  },
  {
   "cell_type": "code",
   "execution_count": null,
   "metadata": {},
   "outputs": [],
   "source": []
  }
 ],
 "metadata": {
  "kernelspec": {
   "display_name": "Python 3",
   "language": "python",
   "name": "python3"
  },
  "language_info": {
   "codemirror_mode": {
    "name": "ipython",
    "version": 3
   },
   "file_extension": ".py",
   "mimetype": "text/x-python",
   "name": "python",
   "nbconvert_exporter": "python",
   "pygments_lexer": "ipython3",
   "version": "3.8.5"
  }
 },
 "nbformat": 4,
 "nbformat_minor": 4
}
